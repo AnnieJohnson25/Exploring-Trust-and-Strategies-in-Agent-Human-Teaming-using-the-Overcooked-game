{
 "cells": [
  {
   "cell_type": "code",
   "execution_count": 1,
   "id": "f36baeaf",
   "metadata": {},
   "outputs": [
    {
     "name": "stdout",
     "output_type": "stream",
     "text": [
      "Requirement already satisfied: opencv-python in c:\\users\\annjo\\anaconda3\\lib\\site-packages (4.5.5.62)\n",
      "Requirement already satisfied: numpy>=1.14.5 in c:\\users\\annjo\\anaconda3\\lib\\site-packages (from opencv-python) (1.20.1)\n"
     ]
    },
    {
     "name": "stderr",
     "output_type": "stream",
     "text": [
      "WARNING: You are using pip version 22.0.4; however, version 22.2.2 is available.\n",
      "You should consider upgrading via the 'c:\\users\\annjo\\anaconda3\\python.exe -m pip install --upgrade pip' command.\n"
     ]
    },
    {
     "name": "stdout",
     "output_type": "stream",
     "text": [
      "Requirement already satisfied: keras in c:\\users\\annjo\\anaconda3\\lib\\site-packages (2.7.0)\n"
     ]
    },
    {
     "name": "stderr",
     "output_type": "stream",
     "text": [
      "WARNING: You are using pip version 22.0.4; however, version 22.2.2 is available.\n",
      "You should consider upgrading via the 'c:\\users\\annjo\\anaconda3\\python.exe -m pip install --upgrade pip' command.\n"
     ]
    },
    {
     "name": "stdout",
     "output_type": "stream",
     "text": [
      "Requirement already satisfied: tensorflow==2.7.1 in c:\\users\\annjo\\anaconda3\\lib\\site-packages (2.7.1)\n",
      "Requirement already satisfied: six>=1.12.0 in c:\\users\\annjo\\anaconda3\\lib\\site-packages (from tensorflow==2.7.1) (1.15.0)\n",
      "Requirement already satisfied: numpy>=1.14.5 in c:\\users\\annjo\\anaconda3\\lib\\site-packages (from tensorflow==2.7.1) (1.20.1)\n",
      "Requirement already satisfied: tensorflow-estimator<2.8,~=2.7.0rc0 in c:\\users\\annjo\\anaconda3\\lib\\site-packages (from tensorflow==2.7.1) (2.7.0)\n",
      "Requirement already satisfied: wheel<1.0,>=0.32.0 in c:\\users\\annjo\\anaconda3\\lib\\site-packages (from tensorflow==2.7.1) (0.37.1)\n",
      "Requirement already satisfied: gast<0.5.0,>=0.2.1 in c:\\users\\annjo\\anaconda3\\lib\\site-packages (from tensorflow==2.7.1) (0.4.0)\n",
      "Requirement already satisfied: keras-preprocessing>=1.1.1 in c:\\users\\annjo\\anaconda3\\lib\\site-packages (from tensorflow==2.7.1) (1.1.2)\n",
      "Requirement already satisfied: google-pasta>=0.1.1 in c:\\users\\annjo\\anaconda3\\lib\\site-packages (from tensorflow==2.7.1) (0.2.0)\n",
      "Requirement already satisfied: libclang>=9.0.1 in c:\\users\\annjo\\anaconda3\\lib\\site-packages (from tensorflow==2.7.1) (13.0.0)\n",
      "Requirement already satisfied: grpcio<2.0,>=1.24.3 in c:\\users\\annjo\\anaconda3\\lib\\site-packages (from tensorflow==2.7.1) (1.44.0)\n",
      "Requirement already satisfied: flatbuffers<3.0,>=1.12 in c:\\users\\annjo\\anaconda3\\lib\\site-packages (from tensorflow==2.7.1) (2.0)\n",
      "Requirement already satisfied: astunparse>=1.6.0 in c:\\users\\annjo\\anaconda3\\lib\\site-packages (from tensorflow==2.7.1) (1.6.3)\n",
      "Requirement already satisfied: keras<2.8,>=2.7.0rc0 in c:\\users\\annjo\\anaconda3\\lib\\site-packages (from tensorflow==2.7.1) (2.7.0)\n",
      "Requirement already satisfied: wrapt>=1.11.0 in c:\\users\\annjo\\anaconda3\\lib\\site-packages (from tensorflow==2.7.1) (1.12.1)\n",
      "Requirement already satisfied: protobuf>=3.9.2 in c:\\users\\annjo\\anaconda3\\lib\\site-packages (from tensorflow==2.7.1) (3.19.1)\n",
      "Requirement already satisfied: typing-extensions>=3.6.6 in c:\\users\\annjo\\anaconda3\\lib\\site-packages (from tensorflow==2.7.1) (3.7.4.3)\n",
      "Requirement already satisfied: tensorboard~=2.6 in c:\\users\\annjo\\anaconda3\\lib\\site-packages (from tensorflow==2.7.1) (2.8.0)\n",
      "Requirement already satisfied: termcolor>=1.1.0 in c:\\users\\annjo\\anaconda3\\lib\\site-packages (from tensorflow==2.7.1) (1.1.0)\n",
      "Requirement already satisfied: tensorflow-io-gcs-filesystem>=0.21.0 in c:\\users\\annjo\\anaconda3\\lib\\site-packages (from tensorflow==2.7.1) (0.24.0)\n",
      "Requirement already satisfied: h5py>=2.9.0 in c:\\users\\annjo\\anaconda3\\lib\\site-packages (from tensorflow==2.7.1) (2.10.0)\n",
      "Requirement already satisfied: absl-py>=0.4.0 in c:\\users\\annjo\\anaconda3\\lib\\site-packages (from tensorflow==2.7.1) (1.0.0)\n",
      "Requirement already satisfied: opt-einsum>=2.3.2 in c:\\users\\annjo\\anaconda3\\lib\\site-packages (from tensorflow==2.7.1) (3.3.0)\n",
      "Requirement already satisfied: tensorboard-plugin-wit>=1.6.0 in c:\\users\\annjo\\anaconda3\\lib\\site-packages (from tensorboard~=2.6->tensorflow==2.7.1) (1.8.1)\n",
      "Requirement already satisfied: google-auth-oauthlib<0.5,>=0.4.1 in c:\\users\\annjo\\anaconda3\\lib\\site-packages (from tensorboard~=2.6->tensorflow==2.7.1) (0.4.6)\n",
      "Requirement already satisfied: requests<3,>=2.21.0 in c:\\users\\annjo\\anaconda3\\lib\\site-packages (from tensorboard~=2.6->tensorflow==2.7.1) (2.25.1)\n",
      "Requirement already satisfied: setuptools>=41.0.0 in c:\\users\\annjo\\anaconda3\\lib\\site-packages (from tensorboard~=2.6->tensorflow==2.7.1) (61.3.1)\n",
      "Requirement already satisfied: tensorboard-data-server<0.7.0,>=0.6.0 in c:\\users\\annjo\\anaconda3\\lib\\site-packages (from tensorboard~=2.6->tensorflow==2.7.1) (0.6.1)\n",
      "Requirement already satisfied: werkzeug>=0.11.15 in c:\\users\\annjo\\anaconda3\\lib\\site-packages (from tensorboard~=2.6->tensorflow==2.7.1) (1.0.1)\n",
      "Requirement already satisfied: markdown>=2.6.8 in c:\\users\\annjo\\anaconda3\\lib\\site-packages (from tensorboard~=2.6->tensorflow==2.7.1) (3.3.6)\n",
      "Requirement already satisfied: google-auth<3,>=1.6.3 in c:\\users\\annjo\\anaconda3\\lib\\site-packages (from tensorboard~=2.6->tensorflow==2.7.1) (2.6.0)\n",
      "Requirement already satisfied: cachetools<6.0,>=2.0.0 in c:\\users\\annjo\\anaconda3\\lib\\site-packages (from google-auth<3,>=1.6.3->tensorboard~=2.6->tensorflow==2.7.1) (4.2.4)\n",
      "Requirement already satisfied: pyasn1-modules>=0.2.1 in c:\\users\\annjo\\anaconda3\\lib\\site-packages (from google-auth<3,>=1.6.3->tensorboard~=2.6->tensorflow==2.7.1) (0.2.8)\n",
      "Requirement already satisfied: rsa<5,>=3.1.4 in c:\\users\\annjo\\anaconda3\\lib\\site-packages (from google-auth<3,>=1.6.3->tensorboard~=2.6->tensorflow==2.7.1) (4.8)\n",
      "Requirement already satisfied: requests-oauthlib>=0.7.0 in c:\\users\\annjo\\anaconda3\\lib\\site-packages (from google-auth-oauthlib<0.5,>=0.4.1->tensorboard~=2.6->tensorflow==2.7.1) (1.3.1)\n",
      "Requirement already satisfied: importlib-metadata>=4.4 in c:\\users\\annjo\\anaconda3\\lib\\site-packages (from markdown>=2.6.8->tensorboard~=2.6->tensorflow==2.7.1) (4.11.1)\n",
      "Requirement already satisfied: urllib3<1.27,>=1.21.1 in c:\\users\\annjo\\anaconda3\\lib\\site-packages (from requests<3,>=2.21.0->tensorboard~=2.6->tensorflow==2.7.1) (1.26.4)\n",
      "Requirement already satisfied: chardet<5,>=3.0.2 in c:\\users\\annjo\\anaconda3\\lib\\site-packages (from requests<3,>=2.21.0->tensorboard~=2.6->tensorflow==2.7.1) (4.0.0)\n",
      "Requirement already satisfied: certifi>=2017.4.17 in c:\\users\\annjo\\anaconda3\\lib\\site-packages (from requests<3,>=2.21.0->tensorboard~=2.6->tensorflow==2.7.1) (2020.12.5)\n",
      "Requirement already satisfied: idna<3,>=2.5 in c:\\users\\annjo\\anaconda3\\lib\\site-packages (from requests<3,>=2.21.0->tensorboard~=2.6->tensorflow==2.7.1) (2.10)\n",
      "Requirement already satisfied: zipp>=0.5 in c:\\users\\annjo\\anaconda3\\lib\\site-packages (from importlib-metadata>=4.4->markdown>=2.6.8->tensorboard~=2.6->tensorflow==2.7.1) (3.4.1)\n",
      "Requirement already satisfied: pyasn1<0.5.0,>=0.4.6 in c:\\users\\annjo\\anaconda3\\lib\\site-packages (from pyasn1-modules>=0.2.1->google-auth<3,>=1.6.3->tensorboard~=2.6->tensorflow==2.7.1) (0.4.8)\n",
      "Requirement already satisfied: oauthlib>=3.0.0 in c:\\users\\annjo\\anaconda3\\lib\\site-packages (from requests-oauthlib>=0.7.0->google-auth-oauthlib<0.5,>=0.4.1->tensorboard~=2.6->tensorflow==2.7.1) (3.2.0)\n"
     ]
    },
    {
     "name": "stderr",
     "output_type": "stream",
     "text": [
      "WARNING: You are using pip version 22.0.4; however, version 22.2.2 is available.\n",
      "You should consider upgrading via the 'c:\\users\\annjo\\anaconda3\\python.exe -m pip install --upgrade pip' command.\n"
     ]
    }
   ],
   "source": [
    "!pip install opencv-python\n",
    "!pip install keras\n",
    "!pip install tensorflow==2.7.1"
   ]
  },
  {
   "cell_type": "code",
   "execution_count": 2,
   "id": "c837b854",
   "metadata": {},
   "outputs": [],
   "source": [
    "import cv2     # for capturing videos\n",
    "import math   # for mathematical operations\n",
    "import matplotlib.pyplot as plt    # for plotting the images\n",
    "%matplotlib inline\n",
    "import pandas as pd\n",
    "from keras.preprocessing import image   # for preprocessing the images\n",
    "import numpy as np    # for mathematical operations\n",
    "from keras.utils import np_utils\n",
    "from skimage.transform import resize   # for resizing images\n",
    "from sklearn.model_selection import train_test_split\n",
    "from glob import glob\n",
    "from tqdm import tqdm"
   ]
  },
  {
   "cell_type": "code",
   "execution_count": 3,
   "id": "cd1a1dbe",
   "metadata": {},
   "outputs": [
    {
     "name": "stderr",
     "output_type": "stream",
     "text": [
      "\r",
      "  0%|                                                                                            | 0/8 [00:00<?, ?it/s]"
     ]
    },
    {
     "name": "stdout",
     "output_type": "stream",
     "text": [
      "<VideoCapture 00000228B90B27F0>\n"
     ]
    },
    {
     "name": "stderr",
     "output_type": "stream",
     "text": [
      "\r",
      " 12%|██████████▌                                                                         | 1/8 [00:04<00:31,  4.50s/it]"
     ]
    },
    {
     "name": "stdout",
     "output_type": "stream",
     "text": [
      "<VideoCapture 00000228B90B2A50>\n"
     ]
    },
    {
     "name": "stderr",
     "output_type": "stream",
     "text": [
      "\r",
      " 25%|█████████████████████                                                               | 2/8 [00:08<00:24,  4.01s/it]"
     ]
    },
    {
     "name": "stdout",
     "output_type": "stream",
     "text": [
      "<VideoCapture 00000228B90B2A90>\n"
     ]
    },
    {
     "name": "stderr",
     "output_type": "stream",
     "text": [
      "\r",
      " 38%|███████████████████████████████▌                                                    | 3/8 [00:09<00:14,  2.94s/it]"
     ]
    },
    {
     "name": "stdout",
     "output_type": "stream",
     "text": [
      "<VideoCapture 00000228B90B2B50>\n"
     ]
    },
    {
     "name": "stderr",
     "output_type": "stream",
     "text": [
      "\r",
      " 50%|██████████████████████████████████████████                                          | 4/8 [00:14<00:13,  3.44s/it]"
     ]
    },
    {
     "name": "stdout",
     "output_type": "stream",
     "text": [
      "<VideoCapture 00000228B90B2B70>\n"
     ]
    },
    {
     "name": "stderr",
     "output_type": "stream",
     "text": [
      "\r",
      " 62%|████████████████████████████████████████████████████▌                               | 5/8 [00:46<00:42, 14.05s/it]"
     ]
    },
    {
     "name": "stdout",
     "output_type": "stream",
     "text": [
      "<VideoCapture 00000228B90B2A70>\n"
     ]
    },
    {
     "name": "stderr",
     "output_type": "stream",
     "text": [
      "\r",
      " 75%|███████████████████████████████████████████████████████████████                     | 6/8 [00:56<00:24, 12.42s/it]"
     ]
    },
    {
     "name": "stdout",
     "output_type": "stream",
     "text": [
      "<VideoCapture 00000228B90B2BB0>\n"
     ]
    },
    {
     "name": "stderr",
     "output_type": "stream",
     "text": [
      "\r",
      " 88%|█████████████████████████████████████████████████████████████████████████▌          | 7/8 [01:00<00:09,  9.62s/it]"
     ]
    },
    {
     "name": "stdout",
     "output_type": "stream",
     "text": [
      "<VideoCapture 00000228B90B2AD0>\n"
     ]
    },
    {
     "name": "stderr",
     "output_type": "stream",
     "text": [
      "100%|████████████████████████████████████████████████████████████████████████████████████| 8/8 [01:04<00:00,  8.01s/it]\n"
     ]
    }
   ],
   "source": [
    "# storing the frames from training videos\n",
    "Video_names=[\"player1\",\"player2\",\"player3\",\"player4\",\"player5\",\"player6\", \"player7\", \"player8\"]\n",
    "for i in tqdm(range(8)):\n",
    "    count = 0\n",
    "    #videoFile = train['video_name'][i]\n",
    "    cap = cv2.VideoCapture('Pilot_Study_Videos/'+Video_names[i]+\".mp4\")   # capturing the video from the given path\n",
    "    frameRate = cap.get(5) #frame rate\n",
    "    print(cap)\n",
    "    x=1\n",
    "    while(cap.isOpened()):\n",
    "        #print(\"here\")\n",
    "        frameId = cap.get(1) #current frame number\n",
    "        ret, frame = cap.read()\n",
    "        if (ret != True):\n",
    "            break\n",
    "        if (frameId % math.floor(frameRate) == 0):\n",
    "            # storing the frames in a new folder named train_1\n",
    "            filename ='train/' + Video_names[i] +\"_frame%d.jpg\" % count;count+=1\n",
    "            cv2.imwrite(filename, frame)\n",
    "    cap.release()"
   ]
  },
  {
   "cell_type": "code",
   "execution_count": null,
   "id": "997c09fd",
   "metadata": {},
   "outputs": [],
   "source": []
  },
  {
   "cell_type": "code",
   "execution_count": null,
   "id": "e2baad37",
   "metadata": {},
   "outputs": [],
   "source": []
  }
 ],
 "metadata": {
  "kernelspec": {
   "display_name": "Python 3",
   "language": "python",
   "name": "python3"
  },
  "language_info": {
   "codemirror_mode": {
    "name": "ipython",
    "version": 3
   },
   "file_extension": ".py",
   "mimetype": "text/x-python",
   "name": "python",
   "nbconvert_exporter": "python",
   "pygments_lexer": "ipython3",
   "version": "3.8.8"
  }
 },
 "nbformat": 4,
 "nbformat_minor": 5
}
